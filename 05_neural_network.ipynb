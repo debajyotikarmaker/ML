{
 "cells": [
  {
   "cell_type": "markdown",
   "id": "c2fd7e85",
   "metadata": {},
   "source": [
    "## Neural Networks"
   ]
  },
  {
   "cell_type": "markdown",
   "id": "f20e02d9",
   "metadata": {},
   "source": [
    "Neural networks are one of the earliest examples of a machine learning model. Neural networks were initially introduced in the 1940s and have risen and fallen several times from popularity. The current generation of deep learning begain in 2006 with an improved training algorithm by Geoffrey Hinton."
   ]
  },
  {
   "cell_type": "markdown",
   "id": "ddbd3235",
   "metadata": {},
   "source": [
    "![Perceptron](resources/images/M_1/and_or.png)"
   ]
  },
  {
   "cell_type": "markdown",
   "id": "902838b2",
   "metadata": {},
   "source": [
    "In 1969, in their book [Perceptrons](https://mitpress.mit.edu/books/perceptrons) Marvin Minksy and Seymour Papert demonstrate the limitations of perceptrons to solve only **_\"linearly separable\"_** problems."
   ]
  },
  {
   "cell_type": "markdown",
   "id": "7b73ab88",
   "metadata": {},
   "source": [
    "#### XOR\n",
    "![Perceptron](resources/images/M_1/xor.png)\n",
    "\n",
    "\n",
    "Can we draw a single line through here to devide the T & F?? We can not. The point is this is not leniarly seperable data. We could draw two lines the T's are inside the two lines and the F's resides outside.\n",
    "\n",
    "What is XOR actually? XOR is actually or but not AND.\n",
    "\n",
    "lets say, we have a perceptron that can perform !AND operation. What if, we take the same inputs and send them to another perceptron which can solve OR. Taking both the outputs and by sending them to aother perceptron that can solve AND, we can produce the XOR output.\n",
    "\n",
    "So the idea is, more complex problems that are not linearly seperable can be solved by linking multiple perceptrons.\n",
    "they are also known as multi layer perceptron or neural networks.\n",
    "\n",
    "The figure shows a three layer neural network. The layers are input, hidden and output. The input layers take the input (in case of XOR the inputs can be (0,0), (0,1), (1,0) or (1,1)) and the output layer produces output (1 or 0). The hidden layer contains the neurons that sit between input and output layer. They are reffered to as hidden because as a user of the system you don't necessarely see them. Inside this hidden layer where the magic happens ! Hidden layer allows us to get around this linearly seperable question. The more hidden layers, the more neurons - gives us more parameters to play with more complex problems."
   ]
  },
  {
   "cell_type": "markdown",
   "id": "3864d7e0",
   "metadata": {},
   "source": [
    "![Perceptron](resources/images/M_1/nn2layer.png)\n"
   ]
  },
  {
   "cell_type": "markdown",
   "id": "202df82a",
   "metadata": {},
   "source": [
    "Each input neuron ($x_1$ and $x_2$) is connected to each neuron ($h_1$ and $h_2$) of the hidden layer. Each hidden neuron ($h_1$ and $h_2$) is connected to each output neuron ($O$). All these connections has a weight ($W_{ij}$). \n",
    "\n",
    "We can compute the values for each neuron:\n",
    "\n",
    "$$\n",
    "\\begin{split}\n",
    "h_1 & = W_{11} * x_1 + W_{12} * x_2 + b_1\\\\\n",
    "h_2 & = W_{21} * x_1 + W_{22} * x_2 + b_2\\\\\n",
    "O & = W_{01} * h_1 + W_{02} * h_2 + b_0\\\\\n",
    "\\end{split}\n",
    "$$\n",
    "\n",
    "What feels normal is that, there is all these connections. We can write some for loop and compute the values for each node/neuron. Remember that inside the neuron weighted sum is calculated with each connection and it's corrosponding input value. Then the result is passed through some activation function - which is the output of that neuron."
   ]
  },
  {
   "cell_type": "markdown",
   "id": "ce99fe23",
   "metadata": {},
   "source": [
    "#### The power of representation\n",
    "\n",
    "Inputs come in, you can calculate the weighted sum of all the neurons for the next layer. That can be done in a single operation if the inputs and the weights are represented as matrix form in our code. \n",
    "\n",
    "$$\n",
    "\\begin{split}\n",
    "\\begin{bmatrix} W_{11} & W_{12} \\\\ W_{21} & W_{22} \\end{bmatrix}\n",
    "\\begin{bmatrix} x_1 \\\\ x_2  \\end{bmatrix}\n",
    "& =\n",
    "\\begin{bmatrix}  W_{11} * x_1 + W_{12} * x_2 \\\\  W_{21} * x_1 + W_{22} * x_2 \\end{bmatrix} \\\\\n",
    "& \\Rightarrow\n",
    "\\begin{bmatrix}  W_{11} * x_1 + W_{12} * x_2 \\\\  W_{21} * x_1 + W_{22} * x_2 \\end{bmatrix} \n",
    "+ \\begin{bmatrix} b_1 \\\\ b_2  \\end{bmatrix}\\\\\n",
    " & =\n",
    "\\begin{bmatrix} h_1 \\\\ h_2  \\end{bmatrix}\n",
    "\\end{split}\n",
    "$$\n"
   ]
  },
  {
   "cell_type": "markdown",
   "id": "c5f85a6b",
   "metadata": {},
   "source": [
    "### Feed Forward Network\n",
    "\n",
    "The inputs come in, you take the weighted sum, add the bias, and finally pass it through the activation function. That results feed forward through the network and gets to the out put.\n",
    "\n",
    "So we can write the generalized form for calculating the weight matrix of hidden and output.\n",
    "$$ H = \\sigma( W^{HI}_{ij}I + b^{H}) $$\n",
    "$$ O = \\sigma( W^{OH}_{ij}H + b^{O}) $$\n",
    "\n"
   ]
  },
  {
   "cell_type": "markdown",
   "id": "a7656db5",
   "metadata": {},
   "source": [
    "\n",
    "### Backpropagation\n",
    "\n",
    "![Perceptron](resources/images/M_1/err_update1.png)\n",
    "\n",
    "$$ E_{h_1} = \\dfrac{W_1}{W_1 + W_2} \\times E_O $$\n",
    "\n",
    "$$ E_{h_2} = \\dfrac{W_2}{W_1 + W_2} \\times E_O $$\n",
    "\n",
    "![Perceptron](resources/images/M_1/err_update2.png)\n",
    "\n",
    "$$ E_{h_1} = \\dfrac{W_{11}}{W_{11} + W_{12}} \\times E_{O_1} + \\dfrac{W_{21}}{W_{21} + W_{22}} \\times E_{O_2} $$\n",
    "\n",
    "$$ E_{h_2} = \\dfrac{W_{12}}{W_{11} + W_{12}} \\times E_{O_1} + \\dfrac{W_{22}}{W_{21} + W_{22}} \\times E_{O_2} $$\n",
    "\n",
    "\n",
    "Remember from perceptron :\n",
    "\n",
    "$$ Y = mX+b $$\n",
    "\n",
    "$$ \\Delta m = \\alpha \\times E \\times X $$\n",
    "\n",
    "$$ \\Delta b = \\alpha \\times E $$\n",
    "\n",
    "Now, we have:\n",
    "\n",
    "![Perceptron](resources/images/M_1/err_update3.png)\n",
    "\n",
    "$$ Y = \\sigma(WX + b) $$\n",
    "\n",
    "$$ \\Delta W^{OH}_{ij} = \\alpha \\times E_O \\times (O \\times (1-O)) \\bullet H^T $$\n",
    "\n",
    "$$ \\Delta W^{HI}_{ij} = \\alpha \\times E_H \\times (H \\times (1-H)) \\bullet I^T $$\n",
    "\n"
   ]
  },
  {
   "cell_type": "code",
   "execution_count": 1,
   "id": "af9c3351",
   "metadata": {},
   "outputs": [],
   "source": [
    "import numpy as np\n",
    "import matplotlib.pyplot as plt\n",
    "\n",
    "np.random.seed(0)\n",
    "\n",
    "X = np.array([ [0,0], [0,1], [1,0], [1,1] ])\n",
    "Y = np.array([ [0], [1], [1], [0] ])"
   ]
  },
  {
   "cell_type": "code",
   "execution_count": 2,
   "id": "f460d8c7",
   "metadata": {},
   "outputs": [],
   "source": [
    "class NeuralNetwork(object):\n",
    "    def __init__(self):\n",
    "        inputLayerNeurons = 2\n",
    "        hiddenLayerNeurons = 10\n",
    "        outLayerNeurons = 1\n",
    "        \n",
    "        self.learning_rate = 0.2\n",
    "        self.W_HI = np.random.randn(inputLayerNeurons, hiddenLayerNeurons)\n",
    "        self.W_OH = np.random.randn(hiddenLayerNeurons, outLayerNeurons)\n",
    "        \n",
    "    def sigmoid(self, x, der=False):\n",
    "        if der == True:\n",
    "            return x * (1-x)\n",
    "        else:\n",
    "            return 1 / (1 + np.exp(-x))\n",
    "        \n",
    "    def feedForward(self, X):\n",
    "        hidden_input = np.dot(X, self.W_HI)\n",
    "        self.hidden_output = self.sigmoid(hidden_input)\n",
    "        \n",
    "        output_input = np.dot(self.hidden_output, self.W_OH)\n",
    "        pred = self.sigmoid(output_input)\n",
    "        return pred\n",
    "        \n",
    "    def backPropagation(self, X, Y, pred):\n",
    "        output_error = Y - pred\n",
    "        output_delta = self.learning_rate * output_error * self.sigmoid(pred, der=True)\n",
    "        \n",
    "        hidden_error = output_delta.dot(self.W_OH.T)\n",
    "        hidden_delta = self.learning_rate * hidden_error * self.sigmoid(self.hidden_output, der=True)\n",
    "        \n",
    "        self.W_HI += X.T.dot(hidden_delta)\n",
    "        self.W_OH += self.hidden_output.T.dot(output_delta)\n",
    "        \n",
    "    def train(self, X, Y):\n",
    "        output = self.feedForward(X)\n",
    "        self.backPropagation(X,Y,output)"
   ]
  },
  {
   "cell_type": "code",
   "execution_count": 3,
   "id": "b881dc37",
   "metadata": {},
   "outputs": [
    {
     "data": {
      "text/plain": [
       "[<matplotlib.lines.Line2D at 0x261fd859fa0>]"
      ]
     },
     "execution_count": 3,
     "metadata": {},
     "output_type": "execute_result"
    },
    {
     "data": {
      "image/png": "[encoded data removed]",
      "text/plain": [
       "<Figure size 432x288 with 1 Axes>"
      ]
     },
     "metadata": {
      "needs_background": "light"
     },
     "output_type": "display_data"
    }
   ],
   "source": [
    "NN = NeuralNetwork()\n",
    "\n",
    "err = []\n",
    "for i in range(10000):\n",
    "    NN.train(X,Y)\n",
    "    err.append(np.mean(np.square(Y - NN.feedForward(X))))\n",
    "\n",
    "plt.plot(err)"
   ]
  },
  {
   "cell_type": "code",
   "execution_count": 4,
   "id": "b914a17c",
   "metadata": {},
   "outputs": [
    {
     "name": "stdout",
     "output_type": "stream",
     "text": [
      "[0.05285688]\n"
     ]
    }
   ],
   "source": [
    "print(NN.feedForward([0,0]))"
   ]
  },
  {
   "cell_type": "code",
   "execution_count": 5,
   "id": "5cce9cbe",
   "metadata": {},
   "outputs": [
    {
     "name": "stdout",
     "output_type": "stream",
     "text": [
      "[0.04283578]\n"
     ]
    }
   ],
   "source": [
    "print(NN.feedForward([1,1]))"
   ]
  },
  {
   "cell_type": "code",
   "execution_count": 6,
   "id": "289bd6fe",
   "metadata": {},
   "outputs": [
    {
     "name": "stdout",
     "output_type": "stream",
     "text": [
      "[0.95335457]\n"
     ]
    }
   ],
   "source": [
    "print(NN.feedForward([1,0]))"
   ]
  },
  {
   "cell_type": "code",
   "execution_count": 7,
   "id": "79f92343",
   "metadata": {},
   "outputs": [
    {
     "name": "stdout",
     "output_type": "stream",
     "text": [
      "[0.95587195]\n"
     ]
    }
   ],
   "source": [
    "print(NN.feedForward([0,1]))"
   ]
  },
  {
   "cell_type": "code",
   "execution_count": null,
   "id": "d6b25902",
   "metadata": {},
   "outputs": [],
   "source": []
  }
 ],
 "metadata": {
  "kernelspec": {
   "display_name": "tf24_py38_gpu",
   "language": "python",
   "name": "tf24_gpu"
  },
  "language_info": {
   "codemirror_mode": {
    "name": "ipython",
    "version": 3
   },
   "file_extension": ".py",
   "mimetype": "text/x-python",
   "name": "python",
   "nbconvert_exporter": "python",
   "pygments_lexer": "ipython3",
   "version": "3.8.8"
  }
 },
 "nbformat": 4,
 "nbformat_minor": 5
}
